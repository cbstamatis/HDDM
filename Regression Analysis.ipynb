{
 "cells": [
  {
   "cell_type": "markdown",
   "metadata": {},
   "source": [
    "# Support Vector Regression\n",
    "\n",
    "We will use SVR to predict risk factors based on the subject's parameters produced by the HDDM."
   ]
  },
  {
   "cell_type": "code",
   "execution_count": 109,
   "metadata": {},
   "outputs": [],
   "source": [
    "from sklearn import svm\n",
    "from sklearn.preprocessing import scale\n",
    "import pandas as pd"
   ]
  },
  {
   "cell_type": "markdown",
   "metadata": {},
   "source": [
    "## Importing Data"
   ]
  },
  {
   "cell_type": "markdown",
   "metadata": {},
   "source": [
    "##### Behavioral Analysis Parameters"
   ]
  },
  {
   "cell_type": "code",
   "execution_count": 110,
   "metadata": {},
   "outputs": [
    {
     "data": {
      "text/html": [
       "<div>\n",
       "<style scoped>\n",
       "    .dataframe tbody tr th:only-of-type {\n",
       "        vertical-align: middle;\n",
       "    }\n",
       "\n",
       "    .dataframe tbody tr th {\n",
       "        vertical-align: top;\n",
       "    }\n",
       "\n",
       "    .dataframe thead th {\n",
       "        text-align: right;\n",
       "    }\n",
       "</style>\n",
       "<table border=\"1\" class=\"dataframe\">\n",
       "  <thead>\n",
       "    <tr style=\"text-align: right;\">\n",
       "      <th></th>\n",
       "      <th>sw_costRT</th>\n",
       "      <th>sw_avg_ac</th>\n",
       "      <th>sw_inc_ac</th>\n",
       "      <th>sw_acc</th>\n",
       "      <th>sw_iacc</th>\n",
       "    </tr>\n",
       "    <tr>\n",
       "      <th>ID</th>\n",
       "      <th></th>\n",
       "      <th></th>\n",
       "      <th></th>\n",
       "      <th></th>\n",
       "      <th></th>\n",
       "    </tr>\n",
       "  </thead>\n",
       "  <tbody>\n",
       "    <tr>\n",
       "      <th>5001</th>\n",
       "      <td>179.882353</td>\n",
       "      <td>0.755556</td>\n",
       "      <td>0.736264</td>\n",
       "      <td>0.747253</td>\n",
       "      <td>0.704545</td>\n",
       "    </tr>\n",
       "    <tr>\n",
       "      <th>5002</th>\n",
       "      <td>301.574983</td>\n",
       "      <td>0.955556</td>\n",
       "      <td>0.921348</td>\n",
       "      <td>0.934066</td>\n",
       "      <td>0.883721</td>\n",
       "    </tr>\n",
       "    <tr>\n",
       "      <th>5003</th>\n",
       "      <td>48.140212</td>\n",
       "      <td>0.916667</td>\n",
       "      <td>0.911111</td>\n",
       "      <td>0.923077</td>\n",
       "      <td>0.906977</td>\n",
       "    </tr>\n",
       "    <tr>\n",
       "      <th>5004</th>\n",
       "      <td>221.275594</td>\n",
       "      <td>0.972222</td>\n",
       "      <td>0.966667</td>\n",
       "      <td>0.967033</td>\n",
       "      <td>0.933333</td>\n",
       "    </tr>\n",
       "    <tr>\n",
       "      <th>5005</th>\n",
       "      <td>504.860435</td>\n",
       "      <td>0.638889</td>\n",
       "      <td>0.641304</td>\n",
       "      <td>0.488889</td>\n",
       "      <td>0.540000</td>\n",
       "    </tr>\n",
       "  </tbody>\n",
       "</table>\n",
       "</div>"
      ],
      "text/plain": [
       "       sw_costRT  sw_avg_ac  sw_inc_ac    sw_acc   sw_iacc\n",
       "ID                                                        \n",
       "5001  179.882353   0.755556   0.736264  0.747253  0.704545\n",
       "5002  301.574983   0.955556   0.921348  0.934066  0.883721\n",
       "5003   48.140212   0.916667   0.911111  0.923077  0.906977\n",
       "5004  221.275594   0.972222   0.966667  0.967033  0.933333\n",
       "5005  504.860435   0.638889   0.641304  0.488889  0.540000"
      ]
     },
     "execution_count": 110,
     "metadata": {},
     "output_type": "execute_result"
    }
   ],
   "source": [
    "behav_params = pd.read_csv('cleaned_data/behavioral_analysis_parameters.csv', index_col=0)\n",
    "behav_params.head(5)"
   ]
  },
  {
   "cell_type": "code",
   "execution_count": 111,
   "metadata": {},
   "outputs": [
    {
     "data": {
      "text/html": [
       "<div>\n",
       "<style scoped>\n",
       "    .dataframe tbody tr th:only-of-type {\n",
       "        vertical-align: middle;\n",
       "    }\n",
       "\n",
       "    .dataframe tbody tr th {\n",
       "        vertical-align: top;\n",
       "    }\n",
       "\n",
       "    .dataframe thead th {\n",
       "        text-align: right;\n",
       "    }\n",
       "</style>\n",
       "<table border=\"1\" class=\"dataframe\">\n",
       "  <thead>\n",
       "    <tr style=\"text-align: right;\">\n",
       "      <th></th>\n",
       "      <th>sw_costRT</th>\n",
       "      <th>sw_avg_ac</th>\n",
       "      <th>sw_inc_ac</th>\n",
       "      <th>sw_acc</th>\n",
       "      <th>sw_iacc</th>\n",
       "    </tr>\n",
       "    <tr>\n",
       "      <th>ID</th>\n",
       "      <th></th>\n",
       "      <th></th>\n",
       "      <th></th>\n",
       "      <th></th>\n",
       "      <th></th>\n",
       "    </tr>\n",
       "  </thead>\n",
       "  <tbody>\n",
       "    <tr>\n",
       "      <th>5001</th>\n",
       "      <td>0.332148</td>\n",
       "      <td>-0.771636</td>\n",
       "      <td>-0.445791</td>\n",
       "      <td>-0.610195</td>\n",
       "      <td>-0.476258</td>\n",
       "    </tr>\n",
       "    <tr>\n",
       "      <th>5002</th>\n",
       "      <td>1.479069</td>\n",
       "      <td>1.074566</td>\n",
       "      <td>1.006806</td>\n",
       "      <td>1.029839</td>\n",
       "      <td>0.921216</td>\n",
       "    </tr>\n",
       "    <tr>\n",
       "      <th>5003</th>\n",
       "      <td>-0.909488</td>\n",
       "      <td>0.715582</td>\n",
       "      <td>0.926462</td>\n",
       "      <td>0.933366</td>\n",
       "      <td>1.102599</td>\n",
       "    </tr>\n",
       "    <tr>\n",
       "      <th>5004</th>\n",
       "      <td>0.722268</td>\n",
       "      <td>1.228416</td>\n",
       "      <td>1.362478</td>\n",
       "      <td>1.319256</td>\n",
       "      <td>1.308166</td>\n",
       "    </tr>\n",
       "    <tr>\n",
       "      <th>5005</th>\n",
       "      <td>3.394981</td>\n",
       "      <td>-1.848587</td>\n",
       "      <td>-1.191060</td>\n",
       "      <td>-2.878373</td>\n",
       "      <td>-1.759625</td>\n",
       "    </tr>\n",
       "  </tbody>\n",
       "</table>\n",
       "</div>"
      ],
      "text/plain": [
       "      sw_costRT  sw_avg_ac  sw_inc_ac    sw_acc   sw_iacc\n",
       "ID                                                       \n",
       "5001   0.332148  -0.771636  -0.445791 -0.610195 -0.476258\n",
       "5002   1.479069   1.074566   1.006806  1.029839  0.921216\n",
       "5003  -0.909488   0.715582   0.926462  0.933366  1.102599\n",
       "5004   0.722268   1.228416   1.362478  1.319256  1.308166\n",
       "5005   3.394981  -1.848587  -1.191060 -2.878373 -1.759625"
      ]
     },
     "execution_count": 111,
     "metadata": {},
     "output_type": "execute_result"
    }
   ],
   "source": [
    "behav_params = pd.DataFrame(scale(behav_params), index=behav_params.index, columns=behav_params.columns)\n",
    "behav_params.head(5)"
   ]
  },
  {
   "cell_type": "markdown",
   "metadata": {},
   "source": [
    "##### Constrained Model Parameters"
   ]
  },
  {
   "cell_type": "code",
   "execution_count": 112,
   "metadata": {},
   "outputs": [
    {
     "data": {
      "text/html": [
       "<div>\n",
       "<style scoped>\n",
       "    .dataframe tbody tr th:only-of-type {\n",
       "        vertical-align: middle;\n",
       "    }\n",
       "\n",
       "    .dataframe tbody tr th {\n",
       "        vertical-align: top;\n",
       "    }\n",
       "\n",
       "    .dataframe thead th {\n",
       "        text-align: right;\n",
       "    }\n",
       "</style>\n",
       "<table border=\"1\" class=\"dataframe\">\n",
       "  <thead>\n",
       "    <tr style=\"text-align: right;\">\n",
       "      <th></th>\n",
       "      <th>a_mean</th>\n",
       "      <th>a_std</th>\n",
       "      <th>t_mean</th>\n",
       "      <th>t_std</th>\n",
       "      <th>v_ConStay_mean</th>\n",
       "      <th>v_ConStay_std</th>\n",
       "      <th>v_ConSwitch_mean</th>\n",
       "      <th>v_ConSwitch_std</th>\n",
       "      <th>v_IncStay_mean</th>\n",
       "      <th>v_IncStay_std</th>\n",
       "      <th>v_IncSwitch_mean</th>\n",
       "      <th>v_IncSwitch_std</th>\n",
       "    </tr>\n",
       "  </thead>\n",
       "  <tbody>\n",
       "    <tr>\n",
       "      <th>5001</th>\n",
       "      <td>1.654276</td>\n",
       "      <td>0.050684</td>\n",
       "      <td>0.009033</td>\n",
       "      <td>0.004389</td>\n",
       "      <td>0.752308</td>\n",
       "      <td>0.191112</td>\n",
       "      <td>0.675413</td>\n",
       "      <td>0.168773</td>\n",
       "      <td>0.799912</td>\n",
       "      <td>0.187332</td>\n",
       "      <td>0.553320</td>\n",
       "      <td>0.175814</td>\n",
       "    </tr>\n",
       "    <tr>\n",
       "      <th>5002</th>\n",
       "      <td>2.162169</td>\n",
       "      <td>0.139902</td>\n",
       "      <td>0.256666</td>\n",
       "      <td>0.019410</td>\n",
       "      <td>2.397274</td>\n",
       "      <td>0.240931</td>\n",
       "      <td>1.419568</td>\n",
       "      <td>0.174521</td>\n",
       "      <td>2.103839</td>\n",
       "      <td>0.247926</td>\n",
       "      <td>1.136038</td>\n",
       "      <td>0.183101</td>\n",
       "    </tr>\n",
       "    <tr>\n",
       "      <th>5003</th>\n",
       "      <td>2.019375</td>\n",
       "      <td>0.128783</td>\n",
       "      <td>0.388972</td>\n",
       "      <td>0.019373</td>\n",
       "      <td>1.555974</td>\n",
       "      <td>0.225187</td>\n",
       "      <td>1.469078</td>\n",
       "      <td>0.198279</td>\n",
       "      <td>1.820493</td>\n",
       "      <td>0.230318</td>\n",
       "      <td>1.611098</td>\n",
       "      <td>0.223071</td>\n",
       "    </tr>\n",
       "    <tr>\n",
       "      <th>5004</th>\n",
       "      <td>2.003204</td>\n",
       "      <td>0.135867</td>\n",
       "      <td>0.257029</td>\n",
       "      <td>0.015485</td>\n",
       "      <td>2.329027</td>\n",
       "      <td>0.275167</td>\n",
       "      <td>1.628504</td>\n",
       "      <td>0.198968</td>\n",
       "      <td>2.793962</td>\n",
       "      <td>0.274371</td>\n",
       "      <td>1.568955</td>\n",
       "      <td>0.215547</td>\n",
       "    </tr>\n",
       "    <tr>\n",
       "      <th>5005</th>\n",
       "      <td>2.155007</td>\n",
       "      <td>0.109106</td>\n",
       "      <td>0.323836</td>\n",
       "      <td>0.023100</td>\n",
       "      <td>1.694907</td>\n",
       "      <td>0.221075</td>\n",
       "      <td>0.427972</td>\n",
       "      <td>0.186792</td>\n",
       "      <td>1.147412</td>\n",
       "      <td>0.201470</td>\n",
       "      <td>0.542570</td>\n",
       "      <td>0.162237</td>\n",
       "    </tr>\n",
       "  </tbody>\n",
       "</table>\n",
       "</div>"
      ],
      "text/plain": [
       "        a_mean     a_std    t_mean     t_std  v_ConStay_mean  v_ConStay_std  \\\n",
       "5001  1.654276  0.050684  0.009033  0.004389        0.752308       0.191112   \n",
       "5002  2.162169  0.139902  0.256666  0.019410        2.397274       0.240931   \n",
       "5003  2.019375  0.128783  0.388972  0.019373        1.555974       0.225187   \n",
       "5004  2.003204  0.135867  0.257029  0.015485        2.329027       0.275167   \n",
       "5005  2.155007  0.109106  0.323836  0.023100        1.694907       0.221075   \n",
       "\n",
       "      v_ConSwitch_mean  v_ConSwitch_std  v_IncStay_mean  v_IncStay_std  \\\n",
       "5001          0.675413         0.168773        0.799912       0.187332   \n",
       "5002          1.419568         0.174521        2.103839       0.247926   \n",
       "5003          1.469078         0.198279        1.820493       0.230318   \n",
       "5004          1.628504         0.198968        2.793962       0.274371   \n",
       "5005          0.427972         0.186792        1.147412       0.201470   \n",
       "\n",
       "      v_IncSwitch_mean  v_IncSwitch_std  \n",
       "5001          0.553320         0.175814  \n",
       "5002          1.136038         0.183101  \n",
       "5003          1.611098         0.223071  \n",
       "5004          1.568955         0.215547  \n",
       "5005          0.542570         0.162237  "
      ]
     },
     "execution_count": 112,
     "metadata": {},
     "output_type": "execute_result"
    }
   ],
   "source": [
    "con_params = pd.read_csv('cleaned_data/constrained_parameters.csv', index_col=0)\n",
    "con_params.head(5)"
   ]
  },
  {
   "cell_type": "code",
   "execution_count": 113,
   "metadata": {},
   "outputs": [
    {
     "data": {
      "text/html": [
       "<div>\n",
       "<style scoped>\n",
       "    .dataframe tbody tr th:only-of-type {\n",
       "        vertical-align: middle;\n",
       "    }\n",
       "\n",
       "    .dataframe tbody tr th {\n",
       "        vertical-align: top;\n",
       "    }\n",
       "\n",
       "    .dataframe thead th {\n",
       "        text-align: right;\n",
       "    }\n",
       "</style>\n",
       "<table border=\"1\" class=\"dataframe\">\n",
       "  <thead>\n",
       "    <tr style=\"text-align: right;\">\n",
       "      <th></th>\n",
       "      <th>a_mean</th>\n",
       "      <th>a_std</th>\n",
       "      <th>t_mean</th>\n",
       "      <th>t_std</th>\n",
       "      <th>v_ConStay_mean</th>\n",
       "      <th>v_ConStay_std</th>\n",
       "      <th>v_ConSwitch_mean</th>\n",
       "      <th>v_ConSwitch_std</th>\n",
       "      <th>v_IncStay_mean</th>\n",
       "      <th>v_IncStay_std</th>\n",
       "      <th>v_IncSwitch_mean</th>\n",
       "      <th>v_IncSwitch_std</th>\n",
       "    </tr>\n",
       "  </thead>\n",
       "  <tbody>\n",
       "    <tr>\n",
       "      <th>5001</th>\n",
       "      <td>-0.611438</td>\n",
       "      <td>-1.446421</td>\n",
       "      <td>-3.579457</td>\n",
       "      <td>-1.436717</td>\n",
       "      <td>-1.890060</td>\n",
       "      <td>-1.515750</td>\n",
       "      <td>-1.400060</td>\n",
       "      <td>-1.059698</td>\n",
       "      <td>-0.947642</td>\n",
       "      <td>-1.200592</td>\n",
       "      <td>-0.878557</td>\n",
       "      <td>-0.861569</td>\n",
       "    </tr>\n",
       "    <tr>\n",
       "      <th>5002</th>\n",
       "      <td>1.065821</td>\n",
       "      <td>1.171093</td>\n",
       "      <td>-0.459354</td>\n",
       "      <td>0.101134</td>\n",
       "      <td>1.089382</td>\n",
       "      <td>0.083619</td>\n",
       "      <td>0.316908</td>\n",
       "      <td>-0.872078</td>\n",
       "      <td>1.216455</td>\n",
       "      <td>0.695172</td>\n",
       "      <td>0.576932</td>\n",
       "      <td>-0.577119</td>\n",
       "    </tr>\n",
       "    <tr>\n",
       "      <th>5003</th>\n",
       "      <td>0.594260</td>\n",
       "      <td>0.844871</td>\n",
       "      <td>1.207668</td>\n",
       "      <td>0.097341</td>\n",
       "      <td>-0.434420</td>\n",
       "      <td>-0.421833</td>\n",
       "      <td>0.431142</td>\n",
       "      <td>-0.096659</td>\n",
       "      <td>0.746192</td>\n",
       "      <td>0.144282</td>\n",
       "      <td>1.763516</td>\n",
       "      <td>0.983137</td>\n",
       "    </tr>\n",
       "    <tr>\n",
       "      <th>5004</th>\n",
       "      <td>0.540857</td>\n",
       "      <td>1.052718</td>\n",
       "      <td>-0.454772</td>\n",
       "      <td>-0.300665</td>\n",
       "      <td>0.965771</td>\n",
       "      <td>1.182708</td>\n",
       "      <td>0.798980</td>\n",
       "      <td>-0.074153</td>\n",
       "      <td>2.361834</td>\n",
       "      <td>1.522561</td>\n",
       "      <td>1.658252</td>\n",
       "      <td>0.689424</td>\n",
       "    </tr>\n",
       "    <tr>\n",
       "      <th>5005</th>\n",
       "      <td>1.042170</td>\n",
       "      <td>0.267568</td>\n",
       "      <td>0.386970</td>\n",
       "      <td>0.478919</td>\n",
       "      <td>-0.182778</td>\n",
       "      <td>-0.553832</td>\n",
       "      <td>-1.970974</td>\n",
       "      <td>-0.471576</td>\n",
       "      <td>-0.370904</td>\n",
       "      <td>-0.758245</td>\n",
       "      <td>-0.905409</td>\n",
       "      <td>-1.391539</td>\n",
       "    </tr>\n",
       "  </tbody>\n",
       "</table>\n",
       "</div>"
      ],
      "text/plain": [
       "        a_mean     a_std    t_mean     t_std  v_ConStay_mean  v_ConStay_std  \\\n",
       "5001 -0.611438 -1.446421 -3.579457 -1.436717       -1.890060      -1.515750   \n",
       "5002  1.065821  1.171093 -0.459354  0.101134        1.089382       0.083619   \n",
       "5003  0.594260  0.844871  1.207668  0.097341       -0.434420      -0.421833   \n",
       "5004  0.540857  1.052718 -0.454772 -0.300665        0.965771       1.182708   \n",
       "5005  1.042170  0.267568  0.386970  0.478919       -0.182778      -0.553832   \n",
       "\n",
       "      v_ConSwitch_mean  v_ConSwitch_std  v_IncStay_mean  v_IncStay_std  \\\n",
       "5001         -1.400060        -1.059698       -0.947642      -1.200592   \n",
       "5002          0.316908        -0.872078        1.216455       0.695172   \n",
       "5003          0.431142        -0.096659        0.746192       0.144282   \n",
       "5004          0.798980        -0.074153        2.361834       1.522561   \n",
       "5005         -1.970974        -0.471576       -0.370904      -0.758245   \n",
       "\n",
       "      v_IncSwitch_mean  v_IncSwitch_std  \n",
       "5001         -0.878557        -0.861569  \n",
       "5002          0.576932        -0.577119  \n",
       "5003          1.763516         0.983137  \n",
       "5004          1.658252         0.689424  \n",
       "5005         -0.905409        -1.391539  "
      ]
     },
     "execution_count": 113,
     "metadata": {},
     "output_type": "execute_result"
    }
   ],
   "source": [
    "con_params = pd.DataFrame(scale(con_params), index=con_params.index, columns=con_params.columns)\n",
    "con_params.head(5)"
   ]
  },
  {
   "cell_type": "markdown",
   "metadata": {},
   "source": [
    "##### Unconstrained Model Parameters"
   ]
  },
  {
   "cell_type": "code",
   "execution_count": 114,
   "metadata": {},
   "outputs": [
    {
     "data": {
      "text/html": [
       "<div>\n",
       "<style scoped>\n",
       "    .dataframe tbody tr th:only-of-type {\n",
       "        vertical-align: middle;\n",
       "    }\n",
       "\n",
       "    .dataframe tbody tr th {\n",
       "        vertical-align: top;\n",
       "    }\n",
       "\n",
       "    .dataframe thead th {\n",
       "        text-align: right;\n",
       "    }\n",
       "</style>\n",
       "<table border=\"1\" class=\"dataframe\">\n",
       "  <thead>\n",
       "    <tr style=\"text-align: right;\">\n",
       "      <th></th>\n",
       "      <th>a_mean</th>\n",
       "      <th>a_std</th>\n",
       "      <th>t_mean</th>\n",
       "      <th>t_std</th>\n",
       "      <th>v_mean</th>\n",
       "      <th>v_std</th>\n",
       "    </tr>\n",
       "  </thead>\n",
       "  <tbody>\n",
       "    <tr>\n",
       "      <th>5001</th>\n",
       "      <td>1.650353</td>\n",
       "      <td>0.050208</td>\n",
       "      <td>0.008911</td>\n",
       "      <td>0.004356</td>\n",
       "      <td>0.651766</td>\n",
       "      <td>0.091077</td>\n",
       "    </tr>\n",
       "    <tr>\n",
       "      <th>5002</th>\n",
       "      <td>2.101413</td>\n",
       "      <td>0.130796</td>\n",
       "      <td>0.254941</td>\n",
       "      <td>0.018952</td>\n",
       "      <td>1.628839</td>\n",
       "      <td>0.128445</td>\n",
       "    </tr>\n",
       "    <tr>\n",
       "      <th>5003</th>\n",
       "      <td>2.028412</td>\n",
       "      <td>0.134851</td>\n",
       "      <td>0.387673</td>\n",
       "      <td>0.019372</td>\n",
       "      <td>1.624307</td>\n",
       "      <td>0.136343</td>\n",
       "    </tr>\n",
       "    <tr>\n",
       "      <th>5004</th>\n",
       "      <td>1.979925</td>\n",
       "      <td>0.135455</td>\n",
       "      <td>0.254277</td>\n",
       "      <td>0.016284</td>\n",
       "      <td>1.987344</td>\n",
       "      <td>0.148719</td>\n",
       "    </tr>\n",
       "    <tr>\n",
       "      <th>5005</th>\n",
       "      <td>2.054512</td>\n",
       "      <td>0.098032</td>\n",
       "      <td>0.325563</td>\n",
       "      <td>0.025738</td>\n",
       "      <td>0.823684</td>\n",
       "      <td>0.097384</td>\n",
       "    </tr>\n",
       "  </tbody>\n",
       "</table>\n",
       "</div>"
      ],
      "text/plain": [
       "        a_mean     a_std    t_mean     t_std    v_mean     v_std\n",
       "5001  1.650353  0.050208  0.008911  0.004356  0.651766  0.091077\n",
       "5002  2.101413  0.130796  0.254941  0.018952  1.628839  0.128445\n",
       "5003  2.028412  0.134851  0.387673  0.019372  1.624307  0.136343\n",
       "5004  1.979925  0.135455  0.254277  0.016284  1.987344  0.148719\n",
       "5005  2.054512  0.098032  0.325563  0.025738  0.823684  0.097384"
      ]
     },
     "execution_count": 114,
     "metadata": {},
     "output_type": "execute_result"
    }
   ],
   "source": [
    "uncon_params = pd.read_csv('cleaned_data/unconstrained_parameters.csv', index_col=0)\n",
    "uncon_params.head(5)"
   ]
  },
  {
   "cell_type": "code",
   "execution_count": 115,
   "metadata": {},
   "outputs": [
    {
     "data": {
      "text/html": [
       "<div>\n",
       "<style scoped>\n",
       "    .dataframe tbody tr th:only-of-type {\n",
       "        vertical-align: middle;\n",
       "    }\n",
       "\n",
       "    .dataframe tbody tr th {\n",
       "        vertical-align: top;\n",
       "    }\n",
       "\n",
       "    .dataframe thead th {\n",
       "        text-align: right;\n",
       "    }\n",
       "</style>\n",
       "<table border=\"1\" class=\"dataframe\">\n",
       "  <thead>\n",
       "    <tr style=\"text-align: right;\">\n",
       "      <th></th>\n",
       "      <th>a_mean</th>\n",
       "      <th>a_std</th>\n",
       "      <th>t_mean</th>\n",
       "      <th>t_std</th>\n",
       "      <th>v_mean</th>\n",
       "      <th>v_std</th>\n",
       "    </tr>\n",
       "  </thead>\n",
       "  <tbody>\n",
       "    <tr>\n",
       "      <th>5001</th>\n",
       "      <td>-0.538052</td>\n",
       "      <td>-1.267710</td>\n",
       "      <td>-3.547986</td>\n",
       "      <td>-1.457964</td>\n",
       "      <td>-1.357838</td>\n",
       "      <td>-1.575656</td>\n",
       "    </tr>\n",
       "    <tr>\n",
       "      <th>5002</th>\n",
       "      <td>0.935731</td>\n",
       "      <td>0.796316</td>\n",
       "      <td>-0.469228</td>\n",
       "      <td>0.020779</td>\n",
       "      <td>0.766522</td>\n",
       "      <td>0.233223</td>\n",
       "    </tr>\n",
       "    <tr>\n",
       "      <th>5003</th>\n",
       "      <td>0.697207</td>\n",
       "      <td>0.900185</td>\n",
       "      <td>1.191747</td>\n",
       "      <td>0.063267</td>\n",
       "      <td>0.756670</td>\n",
       "      <td>0.615574</td>\n",
       "    </tr>\n",
       "    <tr>\n",
       "      <th>5004</th>\n",
       "      <td>0.538784</td>\n",
       "      <td>0.915655</td>\n",
       "      <td>-0.477537</td>\n",
       "      <td>-0.249593</td>\n",
       "      <td>1.545988</td>\n",
       "      <td>1.214642</td>\n",
       "    </tr>\n",
       "    <tr>\n",
       "      <th>5005</th>\n",
       "      <td>0.782486</td>\n",
       "      <td>-0.042834</td>\n",
       "      <td>0.414507</td>\n",
       "      <td>0.708259</td>\n",
       "      <td>-0.984051</td>\n",
       "      <td>-1.270324</td>\n",
       "    </tr>\n",
       "  </tbody>\n",
       "</table>\n",
       "</div>"
      ],
      "text/plain": [
       "        a_mean     a_std    t_mean     t_std    v_mean     v_std\n",
       "5001 -0.538052 -1.267710 -3.547986 -1.457964 -1.357838 -1.575656\n",
       "5002  0.935731  0.796316 -0.469228  0.020779  0.766522  0.233223\n",
       "5003  0.697207  0.900185  1.191747  0.063267  0.756670  0.615574\n",
       "5004  0.538784  0.915655 -0.477537 -0.249593  1.545988  1.214642\n",
       "5005  0.782486 -0.042834  0.414507  0.708259 -0.984051 -1.270324"
      ]
     },
     "execution_count": 115,
     "metadata": {},
     "output_type": "execute_result"
    }
   ],
   "source": [
    "uncon_params = pd.DataFrame(scale(uncon_params), index=uncon_params.index, columns=uncon_params.columns)\n",
    "uncon_params.head(5)"
   ]
  },
  {
   "cell_type": "markdown",
   "metadata": {},
   "source": [
    "##### Repetitive Negative Thinking Risk Factor"
   ]
  },
  {
   "cell_type": "code",
   "execution_count": 116,
   "metadata": {},
   "outputs": [
    {
     "data": {
      "text/html": [
       "<div>\n",
       "<style scoped>\n",
       "    .dataframe tbody tr th:only-of-type {\n",
       "        vertical-align: middle;\n",
       "    }\n",
       "\n",
       "    .dataframe tbody tr th {\n",
       "        vertical-align: top;\n",
       "    }\n",
       "\n",
       "    .dataframe thead th {\n",
       "        text-align: right;\n",
       "    }\n",
       "</style>\n",
       "<table border=\"1\" class=\"dataframe\">\n",
       "  <thead>\n",
       "    <tr style=\"text-align: right;\">\n",
       "      <th></th>\n",
       "      <th>RNT_primaryRisk</th>\n",
       "    </tr>\n",
       "    <tr>\n",
       "      <th>ID</th>\n",
       "      <th></th>\n",
       "    </tr>\n",
       "  </thead>\n",
       "  <tbody>\n",
       "    <tr>\n",
       "      <th>5001</th>\n",
       "      <td>40</td>\n",
       "    </tr>\n",
       "    <tr>\n",
       "      <th>5002</th>\n",
       "      <td>41</td>\n",
       "    </tr>\n",
       "    <tr>\n",
       "      <th>5003</th>\n",
       "      <td>40</td>\n",
       "    </tr>\n",
       "    <tr>\n",
       "      <th>5004</th>\n",
       "      <td>30</td>\n",
       "    </tr>\n",
       "    <tr>\n",
       "      <th>5005</th>\n",
       "      <td>26</td>\n",
       "    </tr>\n",
       "  </tbody>\n",
       "</table>\n",
       "</div>"
      ],
      "text/plain": [
       "      RNT_primaryRisk\n",
       "ID                   \n",
       "5001               40\n",
       "5002               41\n",
       "5003               40\n",
       "5004               30\n",
       "5005               26"
      ]
     },
     "execution_count": 116,
     "metadata": {},
     "output_type": "execute_result"
    }
   ],
   "source": [
    "RNT = pd.read_csv('cleaned_data/RNT_risk_factor.csv', index_col=0)\n",
    "RNT.head(5)"
   ]
  },
  {
   "cell_type": "code",
   "execution_count": 117,
   "metadata": {},
   "outputs": [
    {
     "data": {
      "text/html": [
       "<div>\n",
       "<style scoped>\n",
       "    .dataframe tbody tr th:only-of-type {\n",
       "        vertical-align: middle;\n",
       "    }\n",
       "\n",
       "    .dataframe tbody tr th {\n",
       "        vertical-align: top;\n",
       "    }\n",
       "\n",
       "    .dataframe thead th {\n",
       "        text-align: right;\n",
       "    }\n",
       "</style>\n",
       "<table border=\"1\" class=\"dataframe\">\n",
       "  <thead>\n",
       "    <tr style=\"text-align: right;\">\n",
       "      <th></th>\n",
       "      <th>RNT_primaryRisk</th>\n",
       "    </tr>\n",
       "    <tr>\n",
       "      <th>ID</th>\n",
       "      <th></th>\n",
       "    </tr>\n",
       "  </thead>\n",
       "  <tbody>\n",
       "    <tr>\n",
       "      <th>5001</th>\n",
       "      <td>1.178059</td>\n",
       "    </tr>\n",
       "    <tr>\n",
       "      <th>5002</th>\n",
       "      <td>1.256172</td>\n",
       "    </tr>\n",
       "    <tr>\n",
       "      <th>5003</th>\n",
       "      <td>1.178059</td>\n",
       "    </tr>\n",
       "    <tr>\n",
       "      <th>5004</th>\n",
       "      <td>0.396925</td>\n",
       "    </tr>\n",
       "    <tr>\n",
       "      <th>5005</th>\n",
       "      <td>0.084471</td>\n",
       "    </tr>\n",
       "  </tbody>\n",
       "</table>\n",
       "</div>"
      ],
      "text/plain": [
       "      RNT_primaryRisk\n",
       "ID                   \n",
       "5001         1.178059\n",
       "5002         1.256172\n",
       "5003         1.178059\n",
       "5004         0.396925\n",
       "5005         0.084471"
      ]
     },
     "execution_count": 117,
     "metadata": {},
     "output_type": "execute_result"
    }
   ],
   "source": [
    "RNT = pd.DataFrame(scale(RNT), index=RNT.index, columns=RNT.columns)\n",
    "RNT.head(5)"
   ]
  },
  {
   "cell_type": "markdown",
   "metadata": {},
   "source": [
    "## Regression Models"
   ]
  },
  {
   "cell_type": "code",
   "execution_count": 118,
   "metadata": {},
   "outputs": [],
   "source": [
    "from sklearn.model_selection import train_test_split\n",
    "\n",
    "bp_train, bp_test, cp_train, cp_test, up_train, up_test, RNT_train, RNT_test = train_test_split(behav_params.values, con_params.values, uncon_params.values, RNT.values, test_size=0.2, random_state=5100)"
   ]
  },
  {
   "cell_type": "code",
   "execution_count": 119,
   "metadata": {},
   "outputs": [],
   "source": [
    "svr_clf_behav = svm.SVR()\n",
    "svr_clf_con = svm.SVR()\n",
    "svr_clf_uncon = svm.SVR()"
   ]
  },
  {
   "cell_type": "markdown",
   "metadata": {},
   "source": [
    "##### Adjusted R<sup>2</sup> Values for Both Mean and Std Dev Parameters"
   ]
  },
  {
   "cell_type": "code",
   "execution_count": 120,
   "metadata": {},
   "outputs": [
    {
     "data": {
      "text/plain": [
       "-0.094429644364719678"
      ]
     },
     "execution_count": 120,
     "metadata": {},
     "output_type": "execute_result"
    }
   ],
   "source": [
    "svr_clf_behav.fit(bp_train, RNT_train.ravel())\n",
    "svr_clf_behav.score(bp_test, RNT_test.ravel())"
   ]
  },
  {
   "cell_type": "code",
   "execution_count": 121,
   "metadata": {},
   "outputs": [
    {
     "data": {
      "text/plain": [
       "0.0063312595122545501"
      ]
     },
     "execution_count": 121,
     "metadata": {},
     "output_type": "execute_result"
    }
   ],
   "source": [
    "svr_clf_con.fit(cp_train, RNT_train.ravel())\n",
    "svr_clf_con.score(cp_test, RNT_test.ravel())"
   ]
  },
  {
   "cell_type": "code",
   "execution_count": 122,
   "metadata": {
    "scrolled": true
   },
   "outputs": [
    {
     "data": {
      "text/html": [
       "<div>\n",
       "<style scoped>\n",
       "    .dataframe tbody tr th:only-of-type {\n",
       "        vertical-align: middle;\n",
       "    }\n",
       "\n",
       "    .dataframe tbody tr th {\n",
       "        vertical-align: top;\n",
       "    }\n",
       "\n",
       "    .dataframe thead th {\n",
       "        text-align: right;\n",
       "    }\n",
       "</style>\n",
       "<table border=\"1\" class=\"dataframe\">\n",
       "  <thead>\n",
       "    <tr style=\"text-align: right;\">\n",
       "      <th></th>\n",
       "      <th>a_mean</th>\n",
       "      <th>t_mean</th>\n",
       "      <th>v_ConStay_mean</th>\n",
       "      <th>v_ConSwitch_mean</th>\n",
       "      <th>v_IncStay_mean</th>\n",
       "      <th>v_IncSwitch_mean</th>\n",
       "    </tr>\n",
       "  </thead>\n",
       "  <tbody>\n",
       "    <tr>\n",
       "      <th>5001</th>\n",
       "      <td>-0.611438</td>\n",
       "      <td>-3.579457</td>\n",
       "      <td>-1.890060</td>\n",
       "      <td>-1.400060</td>\n",
       "      <td>-0.947642</td>\n",
       "      <td>-0.878557</td>\n",
       "    </tr>\n",
       "    <tr>\n",
       "      <th>5002</th>\n",
       "      <td>1.065821</td>\n",
       "      <td>-0.459354</td>\n",
       "      <td>1.089382</td>\n",
       "      <td>0.316908</td>\n",
       "      <td>1.216455</td>\n",
       "      <td>0.576932</td>\n",
       "    </tr>\n",
       "    <tr>\n",
       "      <th>5003</th>\n",
       "      <td>0.594260</td>\n",
       "      <td>1.207668</td>\n",
       "      <td>-0.434420</td>\n",
       "      <td>0.431142</td>\n",
       "      <td>0.746192</td>\n",
       "      <td>1.763516</td>\n",
       "    </tr>\n",
       "    <tr>\n",
       "      <th>5004</th>\n",
       "      <td>0.540857</td>\n",
       "      <td>-0.454772</td>\n",
       "      <td>0.965771</td>\n",
       "      <td>0.798980</td>\n",
       "      <td>2.361834</td>\n",
       "      <td>1.658252</td>\n",
       "    </tr>\n",
       "    <tr>\n",
       "      <th>5005</th>\n",
       "      <td>1.042170</td>\n",
       "      <td>0.386970</td>\n",
       "      <td>-0.182778</td>\n",
       "      <td>-1.970974</td>\n",
       "      <td>-0.370904</td>\n",
       "      <td>-0.905409</td>\n",
       "    </tr>\n",
       "  </tbody>\n",
       "</table>\n",
       "</div>"
      ],
      "text/plain": [
       "        a_mean    t_mean  v_ConStay_mean  v_ConSwitch_mean  v_IncStay_mean  \\\n",
       "5001 -0.611438 -3.579457       -1.890060         -1.400060       -0.947642   \n",
       "5002  1.065821 -0.459354        1.089382          0.316908        1.216455   \n",
       "5003  0.594260  1.207668       -0.434420          0.431142        0.746192   \n",
       "5004  0.540857 -0.454772        0.965771          0.798980        2.361834   \n",
       "5005  1.042170  0.386970       -0.182778         -1.970974       -0.370904   \n",
       "\n",
       "      v_IncSwitch_mean  \n",
       "5001         -0.878557  \n",
       "5002          0.576932  \n",
       "5003          1.763516  \n",
       "5004          1.658252  \n",
       "5005         -0.905409  "
      ]
     },
     "execution_count": 122,
     "metadata": {},
     "output_type": "execute_result"
    }
   ],
   "source": [
    "con_mean_params = con_params.iloc[:, ::2].copy()\n",
    "con_mean_params.head(5)"
   ]
  },
  {
   "cell_type": "code",
   "execution_count": 123,
   "metadata": {},
   "outputs": [
    {
     "data": {
      "text/html": [
       "<div>\n",
       "<style scoped>\n",
       "    .dataframe tbody tr th:only-of-type {\n",
       "        vertical-align: middle;\n",
       "    }\n",
       "\n",
       "    .dataframe tbody tr th {\n",
       "        vertical-align: top;\n",
       "    }\n",
       "\n",
       "    .dataframe thead th {\n",
       "        text-align: right;\n",
       "    }\n",
       "</style>\n",
       "<table border=\"1\" class=\"dataframe\">\n",
       "  <thead>\n",
       "    <tr style=\"text-align: right;\">\n",
       "      <th></th>\n",
       "      <th>a_mean</th>\n",
       "      <th>t_mean</th>\n",
       "      <th>v_mean</th>\n",
       "    </tr>\n",
       "  </thead>\n",
       "  <tbody>\n",
       "    <tr>\n",
       "      <th>5001</th>\n",
       "      <td>-0.538052</td>\n",
       "      <td>-3.547986</td>\n",
       "      <td>-1.357838</td>\n",
       "    </tr>\n",
       "    <tr>\n",
       "      <th>5002</th>\n",
       "      <td>0.935731</td>\n",
       "      <td>-0.469228</td>\n",
       "      <td>0.766522</td>\n",
       "    </tr>\n",
       "    <tr>\n",
       "      <th>5003</th>\n",
       "      <td>0.697207</td>\n",
       "      <td>1.191747</td>\n",
       "      <td>0.756670</td>\n",
       "    </tr>\n",
       "    <tr>\n",
       "      <th>5004</th>\n",
       "      <td>0.538784</td>\n",
       "      <td>-0.477537</td>\n",
       "      <td>1.545988</td>\n",
       "    </tr>\n",
       "    <tr>\n",
       "      <th>5005</th>\n",
       "      <td>0.782486</td>\n",
       "      <td>0.414507</td>\n",
       "      <td>-0.984051</td>\n",
       "    </tr>\n",
       "  </tbody>\n",
       "</table>\n",
       "</div>"
      ],
      "text/plain": [
       "        a_mean    t_mean    v_mean\n",
       "5001 -0.538052 -3.547986 -1.357838\n",
       "5002  0.935731 -0.469228  0.766522\n",
       "5003  0.697207  1.191747  0.756670\n",
       "5004  0.538784 -0.477537  1.545988\n",
       "5005  0.782486  0.414507 -0.984051"
      ]
     },
     "execution_count": 123,
     "metadata": {},
     "output_type": "execute_result"
    }
   ],
   "source": [
    "uncon_mean_params = uncon_params.iloc[:, ::2]\n",
    "uncon_mean_params.head(5)"
   ]
  },
  {
   "cell_type": "code",
   "execution_count": 124,
   "metadata": {},
   "outputs": [],
   "source": [
    "bp_mean_train, bp_mean_test, cp_mean_train, cp_mean_test, up_mean_train, up_mean_test, RNT_mean_train, RNT_mean_test = train_test_split(behav_params.values, con_mean_params.values, uncon_mean_params.values, RNT.values, test_size=0.2, random_state=5100)"
   ]
  },
  {
   "cell_type": "code",
   "execution_count": 125,
   "metadata": {},
   "outputs": [],
   "source": [
    "svr_clf_behav_mean = svm.SVR()\n",
    "svr_clf_con_mean = svm.SVR()\n",
    "svr_clf_uncon_mean = svm.SVR()"
   ]
  },
  {
   "cell_type": "markdown",
   "metadata": {},
   "source": [
    "##### Adjusted R<sup>2</sup> Values for Mean Parameters"
   ]
  },
  {
   "cell_type": "code",
   "execution_count": 126,
   "metadata": {},
   "outputs": [
    {
     "data": {
      "text/plain": [
       "-0.094429644364719678"
      ]
     },
     "execution_count": 126,
     "metadata": {},
     "output_type": "execute_result"
    }
   ],
   "source": [
    "svr_clf_behav_mean.fit(bp_mean_train, RNT_mean_train.ravel())\n",
    "svr_clf_behav_mean.score(bp_mean_test, RNT_mean_test.ravel())"
   ]
  },
  {
   "cell_type": "code",
   "execution_count": 127,
   "metadata": {
    "scrolled": true
   },
   "outputs": [
    {
     "data": {
      "text/plain": [
       "0.071180496576256136"
      ]
     },
     "execution_count": 127,
     "metadata": {},
     "output_type": "execute_result"
    }
   ],
   "source": [
    "svr_clf_con_mean.fit(cp_mean_train, RNT_mean_train.ravel())\n",
    "svr_clf_con_mean.score(cp_mean_test, RNT_mean_test.ravel())"
   ]
  },
  {
   "cell_type": "code",
   "execution_count": 128,
   "metadata": {
    "scrolled": true
   },
   "outputs": [
    {
     "data": {
      "text/html": [
       "<div>\n",
       "<style scoped>\n",
       "    .dataframe tbody tr th:only-of-type {\n",
       "        vertical-align: middle;\n",
       "    }\n",
       "\n",
       "    .dataframe tbody tr th {\n",
       "        vertical-align: top;\n",
       "    }\n",
       "\n",
       "    .dataframe thead th {\n",
       "        text-align: right;\n",
       "    }\n",
       "</style>\n",
       "<table border=\"1\" class=\"dataframe\">\n",
       "  <thead>\n",
       "    <tr style=\"text-align: right;\">\n",
       "      <th></th>\n",
       "      <th>a_std</th>\n",
       "      <th>t_std</th>\n",
       "      <th>v_ConStay_std</th>\n",
       "      <th>v_ConSwitch_std</th>\n",
       "      <th>v_IncStay_std</th>\n",
       "      <th>v_IncSwitch_std</th>\n",
       "    </tr>\n",
       "  </thead>\n",
       "  <tbody>\n",
       "    <tr>\n",
       "      <th>5001</th>\n",
       "      <td>-1.446421</td>\n",
       "      <td>-1.436717</td>\n",
       "      <td>-1.515750</td>\n",
       "      <td>-1.059698</td>\n",
       "      <td>-1.200592</td>\n",
       "      <td>-0.861569</td>\n",
       "    </tr>\n",
       "    <tr>\n",
       "      <th>5002</th>\n",
       "      <td>1.171093</td>\n",
       "      <td>0.101134</td>\n",
       "      <td>0.083619</td>\n",
       "      <td>-0.872078</td>\n",
       "      <td>0.695172</td>\n",
       "      <td>-0.577119</td>\n",
       "    </tr>\n",
       "    <tr>\n",
       "      <th>5003</th>\n",
       "      <td>0.844871</td>\n",
       "      <td>0.097341</td>\n",
       "      <td>-0.421833</td>\n",
       "      <td>-0.096659</td>\n",
       "      <td>0.144282</td>\n",
       "      <td>0.983137</td>\n",
       "    </tr>\n",
       "    <tr>\n",
       "      <th>5004</th>\n",
       "      <td>1.052718</td>\n",
       "      <td>-0.300665</td>\n",
       "      <td>1.182708</td>\n",
       "      <td>-0.074153</td>\n",
       "      <td>1.522561</td>\n",
       "      <td>0.689424</td>\n",
       "    </tr>\n",
       "    <tr>\n",
       "      <th>5005</th>\n",
       "      <td>0.267568</td>\n",
       "      <td>0.478919</td>\n",
       "      <td>-0.553832</td>\n",
       "      <td>-0.471576</td>\n",
       "      <td>-0.758245</td>\n",
       "      <td>-1.391539</td>\n",
       "    </tr>\n",
       "  </tbody>\n",
       "</table>\n",
       "</div>"
      ],
      "text/plain": [
       "         a_std     t_std  v_ConStay_std  v_ConSwitch_std  v_IncStay_std  \\\n",
       "5001 -1.446421 -1.436717      -1.515750        -1.059698      -1.200592   \n",
       "5002  1.171093  0.101134       0.083619        -0.872078       0.695172   \n",
       "5003  0.844871  0.097341      -0.421833        -0.096659       0.144282   \n",
       "5004  1.052718 -0.300665       1.182708        -0.074153       1.522561   \n",
       "5005  0.267568  0.478919      -0.553832        -0.471576      -0.758245   \n",
       "\n",
       "      v_IncSwitch_std  \n",
       "5001        -0.861569  \n",
       "5002        -0.577119  \n",
       "5003         0.983137  \n",
       "5004         0.689424  \n",
       "5005        -1.391539  "
      ]
     },
     "execution_count": 128,
     "metadata": {},
     "output_type": "execute_result"
    }
   ],
   "source": [
    "con_std_params = con_params.iloc[:, 1::2].copy()\n",
    "con_std_params.head(5)"
   ]
  },
  {
   "cell_type": "code",
   "execution_count": 129,
   "metadata": {},
   "outputs": [
    {
     "data": {
      "text/html": [
       "<div>\n",
       "<style scoped>\n",
       "    .dataframe tbody tr th:only-of-type {\n",
       "        vertical-align: middle;\n",
       "    }\n",
       "\n",
       "    .dataframe tbody tr th {\n",
       "        vertical-align: top;\n",
       "    }\n",
       "\n",
       "    .dataframe thead th {\n",
       "        text-align: right;\n",
       "    }\n",
       "</style>\n",
       "<table border=\"1\" class=\"dataframe\">\n",
       "  <thead>\n",
       "    <tr style=\"text-align: right;\">\n",
       "      <th></th>\n",
       "      <th>a_std</th>\n",
       "      <th>t_std</th>\n",
       "      <th>v_std</th>\n",
       "    </tr>\n",
       "  </thead>\n",
       "  <tbody>\n",
       "    <tr>\n",
       "      <th>5001</th>\n",
       "      <td>-1.267710</td>\n",
       "      <td>-1.457964</td>\n",
       "      <td>-1.575656</td>\n",
       "    </tr>\n",
       "    <tr>\n",
       "      <th>5002</th>\n",
       "      <td>0.796316</td>\n",
       "      <td>0.020779</td>\n",
       "      <td>0.233223</td>\n",
       "    </tr>\n",
       "    <tr>\n",
       "      <th>5003</th>\n",
       "      <td>0.900185</td>\n",
       "      <td>0.063267</td>\n",
       "      <td>0.615574</td>\n",
       "    </tr>\n",
       "    <tr>\n",
       "      <th>5004</th>\n",
       "      <td>0.915655</td>\n",
       "      <td>-0.249593</td>\n",
       "      <td>1.214642</td>\n",
       "    </tr>\n",
       "    <tr>\n",
       "      <th>5005</th>\n",
       "      <td>-0.042834</td>\n",
       "      <td>0.708259</td>\n",
       "      <td>-1.270324</td>\n",
       "    </tr>\n",
       "  </tbody>\n",
       "</table>\n",
       "</div>"
      ],
      "text/plain": [
       "         a_std     t_std     v_std\n",
       "5001 -1.267710 -1.457964 -1.575656\n",
       "5002  0.796316  0.020779  0.233223\n",
       "5003  0.900185  0.063267  0.615574\n",
       "5004  0.915655 -0.249593  1.214642\n",
       "5005 -0.042834  0.708259 -1.270324"
      ]
     },
     "execution_count": 129,
     "metadata": {},
     "output_type": "execute_result"
    }
   ],
   "source": [
    "uncon_std_params = uncon_params.iloc[:, 1::2]\n",
    "uncon_std_params.head(5)"
   ]
  },
  {
   "cell_type": "code",
   "execution_count": 130,
   "metadata": {},
   "outputs": [],
   "source": [
    "bp_std_train, bp_std_test, cp_std_train, cp_std_test, up_std_train, up_std_test, RNT_std_train, RNT_std_test = train_test_split(behav_params.values, con_std_params.values, uncon_std_params.values, RNT.values, test_size=0.2, random_state=5100)"
   ]
  },
  {
   "cell_type": "code",
   "execution_count": 131,
   "metadata": {},
   "outputs": [],
   "source": [
    "svr_clf_behav_std = svm.SVR()\n",
    "svr_clf_con_std = svm.SVR()\n",
    "svr_clf_uncon_std = svm.SVR()"
   ]
  },
  {
   "cell_type": "markdown",
   "metadata": {},
   "source": [
    "##### Adjusted R<sup>2</sup> Values for Std Dev Parameters"
   ]
  },
  {
   "cell_type": "code",
   "execution_count": 132,
   "metadata": {},
   "outputs": [
    {
     "data": {
      "text/plain": [
       "-0.094429644364719678"
      ]
     },
     "execution_count": 132,
     "metadata": {},
     "output_type": "execute_result"
    }
   ],
   "source": [
    "svr_clf_behav_std.fit(bp_std_train, RNT_std_train.ravel())\n",
    "svr_clf_behav_std.score(bp_mean_test, RNT_std_test.ravel())"
   ]
  },
  {
   "cell_type": "code",
   "execution_count": 133,
   "metadata": {},
   "outputs": [
    {
     "data": {
      "text/plain": [
       "-0.083911497457235029"
      ]
     },
     "execution_count": 133,
     "metadata": {},
     "output_type": "execute_result"
    }
   ],
   "source": [
    "svr_clf_con_std.fit(cp_std_train, RNT_std_train.ravel())\n",
    "svr_clf_con_std.score(cp_std_test, RNT_std_test.ravel())"
   ]
  },
  {
   "cell_type": "code",
   "execution_count": 134,
   "metadata": {},
   "outputs": [
    {
     "data": {
      "text/html": [
       "<div>\n",
       "<style scoped>\n",
       "    .dataframe tbody tr th:only-of-type {\n",
       "        vertical-align: middle;\n",
       "    }\n",
       "\n",
       "    .dataframe tbody tr th {\n",
       "        vertical-align: top;\n",
       "    }\n",
       "\n",
       "    .dataframe thead th {\n",
       "        text-align: right;\n",
       "    }\n",
       "</style>\n",
       "<table border=\"1\" class=\"dataframe\">\n",
       "  <thead>\n",
       "    <tr style=\"text-align: right;\">\n",
       "      <th></th>\n",
       "      <th>v_ConSwitch_mean</th>\n",
       "      <th>v_IncSwitch_mean</th>\n",
       "    </tr>\n",
       "  </thead>\n",
       "  <tbody>\n",
       "    <tr>\n",
       "      <th>5001</th>\n",
       "      <td>-1.400060</td>\n",
       "      <td>-0.878557</td>\n",
       "    </tr>\n",
       "    <tr>\n",
       "      <th>5002</th>\n",
       "      <td>0.316908</td>\n",
       "      <td>0.576932</td>\n",
       "    </tr>\n",
       "    <tr>\n",
       "      <th>5003</th>\n",
       "      <td>0.431142</td>\n",
       "      <td>1.763516</td>\n",
       "    </tr>\n",
       "    <tr>\n",
       "      <th>5004</th>\n",
       "      <td>0.798980</td>\n",
       "      <td>1.658252</td>\n",
       "    </tr>\n",
       "    <tr>\n",
       "      <th>5005</th>\n",
       "      <td>-1.970974</td>\n",
       "      <td>-0.905409</td>\n",
       "    </tr>\n",
       "  </tbody>\n",
       "</table>\n",
       "</div>"
      ],
      "text/plain": [
       "      v_ConSwitch_mean  v_IncSwitch_mean\n",
       "5001         -1.400060         -0.878557\n",
       "5002          0.316908          0.576932\n",
       "5003          0.431142          1.763516\n",
       "5004          0.798980          1.658252\n",
       "5005         -1.970974         -0.905409"
      ]
     },
     "execution_count": 134,
     "metadata": {},
     "output_type": "execute_result"
    }
   ],
   "source": [
    "con_switch_mean_params = con_params[['v_ConSwitch_mean', 'v_IncSwitch_mean']].copy()\n",
    "con_switch_mean_params.head(5)"
   ]
  },
  {
   "cell_type": "code",
   "execution_count": 135,
   "metadata": {},
   "outputs": [],
   "source": [
    "bp_switch_mean_train, bp_switch_mean_test, cp_switch_mean_train, cp_switch_mean_test, RNT_switch_mean_train, RNT_switch_mean_test = train_test_split(behav_params.values, con_switch_mean_params.values, RNT.values, test_size=0.2, random_state=5100)"
   ]
  },
  {
   "cell_type": "code",
   "execution_count": 136,
   "metadata": {},
   "outputs": [],
   "source": [
    "svr_clf_con_switch_mean = svm.SVR()"
   ]
  },
  {
   "cell_type": "markdown",
   "metadata": {},
   "source": [
    "##### Adjusted R<sup>2</sup> Value for Only Using Switch Mean Parameters"
   ]
  },
  {
   "cell_type": "code",
   "execution_count": 137,
   "metadata": {},
   "outputs": [
    {
     "data": {
      "text/plain": [
       "-0.1175623258351659"
      ]
     },
     "execution_count": 137,
     "metadata": {},
     "output_type": "execute_result"
    }
   ],
   "source": [
    "svr_clf_con_switch_mean.fit(cp_switch_mean_train, RNT_switch_mean_train.ravel())\n",
    "svr_clf_con_switch_mean.score(cp_switch_mean_test, RNT_switch_mean_test.ravel())"
   ]
  },
  {
   "cell_type": "code",
   "execution_count": null,
   "metadata": {},
   "outputs": [],
   "source": []
  }
 ],
 "metadata": {
  "kernelspec": {
   "display_name": "Python 3",
   "language": "python",
   "name": "python3"
  },
  "language_info": {
   "codemirror_mode": {
    "name": "ipython",
    "version": 3
   },
   "file_extension": ".py",
   "mimetype": "text/x-python",
   "name": "python",
   "nbconvert_exporter": "python",
   "pygments_lexer": "ipython3",
   "version": "3.6.8"
  }
 },
 "nbformat": 4,
 "nbformat_minor": 2
}
